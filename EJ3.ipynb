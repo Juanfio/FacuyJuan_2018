{
 "cells": [
  {
   "cell_type": "code",
   "execution_count": 43,
   "metadata": {},
   "outputs": [
    {
     "data": {
      "text/plain": [
       "22963"
      ]
     },
     "execution_count": 43,
     "metadata": {},
     "output_type": "execute_result"
    },
    {
     "data": {
      "image/png": "[encoded data removed]",
      "text/plain": [
       "<Figure size 432x288 with 1 Axes>"
      ]
     },
     "metadata": {},
     "output_type": "display_data"
    }
   ],
   "source": [
    "import numpy as np\n",
    "import matplotlib.pylab as plt\n",
    "import networkx as nx\n",
    "import pandas as pd\n",
    "\n",
    "def ldata(archive):\n",
    "    f=open(archive)\n",
    "    data=[]\n",
    "    for line in f:\n",
    "        line=line.strip()\n",
    "        col=line.split()\n",
    "        data.append(col)\n",
    "    return data\n",
    "\n",
    "g = nx.read_gml('as-22july06.gml')\n",
    "\n",
    "#Calculo el grado de cada nodo y hago una lista de grados y otra de nodos con sus grados asociados\n",
    "\n",
    "k=np.zeros(len(g.nodes))\n",
    "t=-1\n",
    "\n",
    "for node in g.nodes:\n",
    "    vecinos=[]\n",
    "    t=t+1\n",
    "    for vecino in g.neighbors(node):\n",
    "        vecinos.append(vecino)\n",
    "    k[t]=len(vecinos) #vector de grados de cada nodo\n",
    "    \n",
    "MAXk=int(max(k)) #Calculo el grado maximo\n",
    "\n",
    "grados=[]\n",
    "\n",
    "for i in range(len(k)):\n",
    "    grados.append(k[i])\n",
    "\n",
    "nodos=[]\n",
    "\n",
    "for nodo in g.nodes:\n",
    "    nodos.append(nodo)\n",
    "\n",
    "Nodos_con_grado=[]\n",
    "\n",
    "for n,grado in zip(nodos,grados): #lista de nodos con grado\n",
    "    Nodos_con_grado.append([n,grado])\n",
    "\n",
    "\n",
    "K=np.zeros(MAXk)\n",
    "Pk=np.zeros(MAXk)\n",
    "t=-1\n",
    "for r in range(MAXk): #VECTORES DE GRADO Y PROBABILIDAD\n",
    "    t=t+1\n",
    "    K[t]=r\n",
    "    for grado in grados:\n",
    "        if grado == r:\n",
    "            Pk[t]=Pk[t]+1\n",
    "    Pk[t]=Pk[t]/len(grados) \n",
    "\n",
    "\n",
    "plt.plot(K, Pk, 'r.')\n",
    "plt.xlabel(\"k\")\n",
    "plt.ylabel(\"Pk\")\n",
    "plt.title(\"Distribución de grado\")            \n",
    "\n",
    "N"
   ]
  },
  {
   "cell_type": "code",
   "execution_count": null,
   "metadata": {},
   "outputs": [],
   "source": []
  }
 ],
 "metadata": {
  "kernelspec": {
   "display_name": "Python 3",
   "language": "python",
   "name": "python3"
  },
  "language_info": {
   "codemirror_mode": {
    "name": "ipython",
    "version": 3
   },
   "file_extension": ".py",
   "mimetype": "text/x-python",
   "name": "python",
   "nbconvert_exporter": "python",
   "pygments_lexer": "ipython3",
   "version": "3.6.5"
  }
 },
 "nbformat": 4,
 "nbformat_minor": 2
}
