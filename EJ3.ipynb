{
 "cells": [
  {
   "cell_type": "code",
   "execution_count": 66,
   "metadata": {},
   "outputs": [
    {
     "name": "stderr",
     "output_type": "stream",
     "text": [
      "C:\\ProgramData\\Anaconda3\\lib\\site-packages\\ipykernel_launcher.py:65: RuntimeWarning: divide by zero encountered in log\n",
      "C:\\ProgramData\\Anaconda3\\lib\\site-packages\\ipykernel_launcher.py:71: RuntimeWarning: divide by zero encountered in log\n",
      "C:\\ProgramData\\Anaconda3\\lib\\site-packages\\ipykernel_launcher.py:77: RuntimeWarning: divide by zero encountered in log\n"
     ]
    },
    {
     "data": {
      "image/png": "[encoded data removed]",
      "text/plain": [
       "<Figure size 432x288 with 1 Axes>"
      ]
     },
     "metadata": {},
     "output_type": "display_data"
    }
   ],
   "source": [
    "#EJERCICIO 3.A\n",
    "import numpy as np\n",
    "import matplotlib.pylab as plt\n",
    "import networkx as nx\n",
    "import pandas as pd\n",
    "\n",
    "def ldata(archive):\n",
    "    f=open(archive)\n",
    "    data=[]\n",
    "    for line in f:\n",
    "        line=line.strip()\n",
    "        col=line.split()\n",
    "        data.append(col)\n",
    "    return data\n",
    "\n",
    "g = nx.read_gml('as-22july06.gml')\n",
    "\n",
    "#Calculo el grado de cada nodo y hago una lista de grados y otra de nodos con sus grados asociados\n",
    "\n",
    "k=np.zeros(len(g.nodes))\n",
    "t=-1\n",
    "\n",
    "for node in g.nodes:\n",
    "    vecinos=[]\n",
    "    t=t+1\n",
    "    for vecino in g.neighbors(node):\n",
    "        vecinos.append(vecino)\n",
    "    k[t]=len(vecinos) #vector de grados de cada nodo\n",
    "    \n",
    "MAXk=int(max(k)) #Calculo el grado maximo\n",
    "\n",
    "grados=[] #Lista con los grados\n",
    "\n",
    "for i in range(len(k)):\n",
    "    grados.append(k[i])\n",
    "\n",
    "nodos=[] #Lista con los nodos\n",
    "\n",
    "for nodo in g.nodes:\n",
    "    nodos.append(nodo)\n",
    "\n",
    "Nodos_con_grado=[]\n",
    "\n",
    "for n,grado in zip(nodos,grados): #lista de nodos con grado\n",
    "    Nodos_con_grado.append([n,grado])\n",
    "\n",
    "K=np.zeros(MAXk)\n",
    "Pk=np.zeros(MAXk)\n",
    "t=-1\n",
    "for r in range(MAXk): #VECTORES DE GRADO Y PROBABILIDAD\n",
    "    t=t+1\n",
    "    K[t]=r\n",
    "    for grado in grados:\n",
    "        if grado == r:\n",
    "            Pk[t]=Pk[t]+1\n",
    "    Pk[t]=Pk[t]/len(grados) \n",
    "    \n",
    "plt.subplot(3,3,1)\n",
    "plt.plot(K, Pk, 'r.')\n",
    "plt.xlabel(\"k\")\n",
    "plt.ylabel(\"Pk\")\n",
    "plt.title(\"Distribución de grado - Escala lineal\")\n",
    "\n",
    "plt.subplot(3,3,3)\n",
    "plt.plot(np.log(K), np.log(Pk), 'r.')\n",
    "plt.xlabel(\"log(k)\")\n",
    "plt.ylabel(\"log(Pk)\")\n",
    "plt.title(\"Distribución de grado - log log\")\n",
    "\n",
    "plt.subplot(3,3,7)\n",
    "plt.plot(np.log(K), Pk, 'r.')\n",
    "plt.xlabel(\"log(k)\")\n",
    "plt.ylabel(\"Pk\")\n",
    "plt.title(\"Distribución de grado - log lineal\")\n",
    "\n",
    "plt.subplot(3,3,9)\n",
    "plt.plot(K, np.log(Pk), 'r.')\n",
    "plt.xlabel(\"k\")\n",
    "plt.ylabel(\"log(Pk)\")\n",
    "plt.title(\"Distribución de grado - lineal log\")\n",
    "\n",
    "\n",
    "plt.show()\n"
   ]
  },
  {
   "cell_type": "code",
   "execution_count": 21,
   "metadata": {},
   "outputs": [
    {
     "data": {
      "text/plain": [
       "10.0"
      ]
     },
     "execution_count": 21,
     "metadata": {},
     "output_type": "execute_result"
    }
   ],
   "source": [
    "#no entiendo por que no soluciona el problema del cero\n",
    "K=np.zeros(MAXk)\n",
    "Pk=np.zeros(MAXk)\n",
    "t=-1\n",
    "r=1\n",
    "while (r <= MAXk): #VECTORES DE GRADO Y PROBABILIDAD\n",
    "    if r in grados:\n",
    "        t=t+1\n",
    "        K[t]=r\n",
    "        for grado in grados:\n",
    "            if grado == r:\n",
    "                Pk[t]=Pk[t]+1\n",
    "        Pk[t]=Pk[t]/len(grados) #Normalizo \n",
    "\n"
   ]
  },
  {
   "cell_type": "code",
   "execution_count": 57,
   "metadata": {},
   "outputs": [
    {
     "name": "stderr",
     "output_type": "stream",
     "text": [
      "C:\\ProgramData\\Anaconda3\\lib\\site-packages\\ipykernel_launcher.py:27: RuntimeWarning: divide by zero encountered in log\n"
     ]
    },
    {
     "data": {
      "text/plain": [
       "[<matplotlib.lines.Line2D at 0x2b6d3b6bc88>]"
      ]
     },
     "execution_count": 57,
     "metadata": {},
     "output_type": "execute_result"
    },
    {
     "data": {
      "image/png": "[encoded data removed]",
      "text/plain": [
       "<Figure size 432x288 with 1 Axes>"
      ]
     },
     "metadata": {},
     "output_type": "display_data"
    }
   ],
   "source": [
    "#INTENTO FALLIDO\n",
    "import numpy as np\n",
    "import matplotlib.pylab as plt\n",
    "import networkx as nx\n",
    "import pandas as pd\n",
    "#3.B\n",
    "#BINEADO LOGARITMICO\n",
    "K=np.zeros(MAXk)\n",
    "Pk=np.zeros(MAXk)\n",
    "t=-1\n",
    "for r in range(MAXk): #VECTORES DE GRADO Y PROBABILIDAD\n",
    "    t=t+1\n",
    "    K[t]=r\n",
    "    for grado in grados:\n",
    "        if grado == r:\n",
    "            Pk[t]=Pk[t]+1\n",
    "    \n",
    "b=np.ones(15)\n",
    "Pkm=np.zeros(15)\n",
    "for i in range(1,15):\n",
    "    b[i]=1.5**i+b[i-1]\n",
    "    for t in range(len(K)):\n",
    "        if k[t] >=b[i-1]:\n",
    "            if k[t]<b[i]:\n",
    "                Pkm[i]=Pk[t]+Pkm[i]\n",
    "    Pkm[i]=Pkm[i]/(b[i]-b[i-1]) #P(<ki>)=Ni/Deltabi\n",
    "\n",
    "plt.plot(np.log(b),np.log(Pkm),'r.')\n",
    "    "
   ]
  },
  {
   "cell_type": "code",
   "execution_count": 64,
   "metadata": {},
   "outputs": [
    {
     "data": {
      "image/png": "[encoded data removed]",
      "text/plain": [
       "<Figure size 432x288 with 1 Axes>"
      ]
     },
     "metadata": {},
     "output_type": "display_data"
    }
   ],
   "source": [
    "import numpy as np\n",
    "import matplotlib.pylab as plt\n",
    "import networkx as nx\n",
    "import pandas as pd\n",
    "#3.B\n",
    "#BINEADO LOGARITMICO\n",
    "K=np.zeros(MAXk)\n",
    "Pk=np.zeros(MAXk)\n",
    "t=-1\n",
    "for r in range(MAXk): #VECTORES DE GRADO Y PROBABILIDAD\n",
    "    t=t+1\n",
    "    K[t]=r\n",
    "    for grado in grados:\n",
    "        if grado == r:import numpy as np\n",
    "import matplotlib.pylab as plt\n",
    "import networkx as nx\n",
    "import pandas as pd\n",
    "#3.B\n",
    "#BINEADO LOGARITMICO\n",
    "K=np.zeros(MAXk)\n",
    "Pk=np.zeros(MAXk)\n",
    "t=-1\n",
    "for r in range(MAXk): #VECTORES DE GRADO Y PROBABILIDAD\n",
    "    t=t+1\n",
    "    K[t]=r\n",
    "    for grado in grados:\n",
    "        if grado == r:\n",
    "            Pk[t]=Pk[t]+1\n",
    "\n",
    "# bins escalados logaritmicamente\n",
    "bins = np.logspace(0, 3, 20)\n",
    "widths = (bins[1:] - bins[:-1])\n",
    "\n",
    "\n",
    "# Calculo histograma\n",
    "hist = np.histogram(Pk, bins=bins)\n",
    "# normalizo el ancho del bin\n",
    "hist_norm = hist[0]/widths\n",
    "\n",
    "kb=np.zeros(len(bins))\n",
    "Pkm=np.zeros(len(bins))\n",
    "for i in range(len(bins)-1):\n",
    "    kb[i]=(bins[i+1]-bins[i])/2\n",
    "    Pkm[i]=hist_norm[i]\n",
    "\n",
    "plt.plot(kb,Pkm,'r.')\n",
    "\n",
    "plt.xscale('log')\n",
    "plt.yscale('log')\n",
    "plt.show()\n",
    "            Pk[t]=Pk[t]+1\n",
    "\n",
    "# bins escalados logaritmicamente\n",
    "bins = np.logspace(0, 3, 20)\n",
    "widths = (bins[1:] - bins[:-1])\n",
    "\n",
    "\n",
    "# Calculo histograma\n",
    "hist = np.histogram(Pk, bins=bins)\n",
    "# normalizo el ancho del bin\n",
    "hist_norm = hist[0]/widths\n",
    "\n",
    "kb=np.zeros(len(bins))\n",
    "Pkm=np.zeros(len(bins))\n",
    "for i in range(len(bins)-1):\n",
    "    kb[i]=(bins[i+1]-bins[i])/2\n",
    "    Pkm[i]=hist_norm[i]\n",
    "\n",
    "plt.plot(kb,Pkm,'r.')\n",
    "\n",
    "plt.xscale('log')\n",
    "plt.yscale('log')\n",
    "plt.show()\n",
    "\n",
    "#PREGUNTAS\n",
    "#fit_power_law(x, xmin = NULL, start = 2, force.continuous = FALSE,\n",
    "#  implementation = c(\"plfit\", \"R.mle\"), ...) USO ESTO? COMO SE USA??\n",
    "#ES NECESARIO HACER EL GRAFICO ULTIMO QUE HIOCE DE BINEO LOGARITMICO?"
   ]
  },
  {
   "cell_type": "code",
   "execution_count": 70,
   "metadata": {},
   "outputs": [
    {
     "ename": "IndexError",
     "evalue": "index 2389 is out of bounds for axis 0 with size 2389",
     "output_type": "error",
     "traceback": [
      "\u001b[1;31m---------------------------------------------------------------------------\u001b[0m",
      "\u001b[1;31mIndexError\u001b[0m                                Traceback (most recent call last)",
      "\u001b[1;32m<ipython-input-70-3d40a8ed4e73>\u001b[0m in \u001b[0;36m<module>\u001b[1;34m()\u001b[0m\n\u001b[0;32m     48\u001b[0m \u001b[1;32mfor\u001b[0m \u001b[0mi\u001b[0m \u001b[1;32min\u001b[0m \u001b[0mrange\u001b[0m\u001b[1;33m(\u001b[0m\u001b[0mlen\u001b[0m\u001b[1;33m(\u001b[0m\u001b[0mbins\u001b[0m\u001b[1;33m)\u001b[0m\u001b[1;33m-\u001b[0m\u001b[1;36m1\u001b[0m\u001b[1;33m)\u001b[0m\u001b[1;33m:\u001b[0m\u001b[1;33m\u001b[0m\u001b[0m\n\u001b[0;32m     49\u001b[0m     \u001b[0mkb\u001b[0m\u001b[1;33m[\u001b[0m\u001b[0mi\u001b[0m\u001b[1;33m]\u001b[0m\u001b[1;33m=\u001b[0m\u001b[1;33m(\u001b[0m\u001b[0mbins\u001b[0m\u001b[1;33m[\u001b[0m\u001b[0mi\u001b[0m\u001b[1;33m+\u001b[0m\u001b[1;36m1\u001b[0m\u001b[1;33m]\u001b[0m\u001b[1;33m-\u001b[0m\u001b[0mbins\u001b[0m\u001b[1;33m[\u001b[0m\u001b[0mi\u001b[0m\u001b[1;33m]\u001b[0m\u001b[1;33m)\u001b[0m\u001b[1;33m/\u001b[0m\u001b[1;36m2\u001b[0m\u001b[1;33m\u001b[0m\u001b[0m\n\u001b[1;32m---> 50\u001b[1;33m     \u001b[0mPkm\u001b[0m\u001b[1;33m[\u001b[0m\u001b[0mi\u001b[0m\u001b[1;33m]\u001b[0m\u001b[1;33m=\u001b[0m\u001b[0mhist_norm\u001b[0m\u001b[1;33m[\u001b[0m\u001b[0mi\u001b[0m\u001b[1;33m]\u001b[0m\u001b[1;33m\u001b[0m\u001b[0m\n\u001b[0m\u001b[0;32m     51\u001b[0m \u001b[1;33m\u001b[0m\u001b[0m\n\u001b[0;32m     52\u001b[0m \u001b[0mplt\u001b[0m\u001b[1;33m.\u001b[0m\u001b[0mplot\u001b[0m\u001b[1;33m(\u001b[0m\u001b[0mkb\u001b[0m\u001b[1;33m,\u001b[0m\u001b[0mPkm\u001b[0m\u001b[1;33m,\u001b[0m\u001b[1;34m'r.'\u001b[0m\u001b[1;33m)\u001b[0m\u001b[1;33m\u001b[0m\u001b[0m\n",
      "\u001b[1;31mIndexError\u001b[0m: index 2389 is out of bounds for axis 0 with size 2389"
     ]
    }
   ],
   "source": []
  }
 ],
 "metadata": {
  "kernelspec": {
   "display_name": "Python 3",
   "language": "python",
   "name": "python3"
  },
  "language_info": {
   "codemirror_mode": {
    "name": "ipython",
    "version": 3
   },
   "file_extension": ".py",
   "mimetype": "text/x-python",
   "name": "python",
   "nbconvert_exporter": "python",
   "pygments_lexer": "ipython3",
   "version": "3.6.5"
  }
 },
 "nbformat": 4,
 "nbformat_minor": 2
}
