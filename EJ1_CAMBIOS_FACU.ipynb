{
 "cells": [
  {
   "cell_type": "code",
   "execution_count": 3,
   "metadata": {},
   "outputs": [
    {
     "data": {
      "image/png": "[encoded data removed]",
      "text/plain": [
       "<Figure size 432x288 with 3 Axes>"
      ]
     },
     "metadata": {},
     "output_type": "display_data"
    }
   ],
   "source": [
    "import numpy as np\n",
    "import matplotlib.pylab as plt\n",
    "import networkx as nx\n",
    "import pandas as pd\n",
    "#Ej 1.a\n",
    "def ldata(archive):\n",
    "    f=open(archive)\n",
    "    data=[]\n",
    "    for line in f:\n",
    "        line=line.strip()\n",
    "        col=line.split()\n",
    "        data.append(col)\n",
    "    return data\n",
    "AP_MS=ldata('yeast_AP-MS.txt')\n",
    "LIT=ldata('yeast_LIT.txt')\n",
    "Y2H=ldata('yeast_Y2H.txt')\n",
    "gMS = nx.Graph ()\n",
    "gLIT = nx.Graph () \n",
    "gY2H = nx.Graph ()\n",
    "plt.subplot(221)\n",
    "for i in range (len(AP_MS)):\n",
    "    gMS.add_nodes_from (AP_MS[i])\n",
    "    gMS.add_edge (AP_MS[i][0],AP_MS[i][1])\n",
    "    \n",
    "nx.draw(gMS,node_size = 40,with_labels=False, font_weight='bold')\n",
    "plt.subplot(222)\n",
    "for i in range (len(LIT)):\n",
    "    gLIT.add_nodes_from (LIT[i])\n",
    "    gLIT.add_edge (LIT[i][0],LIT[i][1])\n",
    "    \n",
    "nx.draw(gLIT,node_size = 40,with_labels=False, font_weight='bold')\n",
    "plt.subplot(223)\n",
    "for i in range (len(Y2H)):\n",
    "    gY2H.add_nodes_from (Y2H[i])\n",
    "    gY2H.add_edge (Y2H[i][0],Y2H[i][1])\n",
    "    \n",
    "nx.draw(gY2H,node_size = 40,with_labels=False, font_weight='bold')\n",
    "plt.show ()"
   ]
  },
  {
   "cell_type": "code",
   "execution_count": 2,
   "metadata": {},
   "outputs": [
    {
     "name": "stdout",
     "output_type": "stream",
     "text": [
      "   Redes Num_Nodos Num_Enlaces  No-Dirigida  Densidad_Red  Coef_de_Clus\n",
      "0  AP_MS    [1622]      [9070]         True             0             0\n",
      "1    LIT    [1536]      [2925]        False             0             0\n",
      "2    Y2H    [2018]      [2930]        False             3             0\n"
     ]
    }
   ],
   "source": [
    "#Ejercicio 1.b\n",
    "import numpy as np\n",
    "import matplotlib.pylab as plt\n",
    "import networkx as nx\n",
    "import pandas as pd\n",
    "def ldata(archive):\n",
    "    f=open(archive)\n",
    "    data=[]\n",
    "    for line in f:\n",
    "        line=line.strip()\n",
    "        col=line.split()\n",
    "        data.append(col)\n",
    "    return data\n",
    "#Nro de nodos\n",
    "def num_nod(archive):\n",
    "    data=ldata(archive)\n",
    "    g = nx.Graph ()\n",
    "    nod = []\n",
    "    for i in range (len(data)):\n",
    "        g.add_nodes_from (data[i])\n",
    "        g.add_edge (data[i][0],data[i][1])\n",
    "    g1 = g.to_undirected()\n",
    "    N=g1.number_of_nodes()\n",
    "    nod.append (N) #agrega el valor N  a la lista nod=[]\n",
    "    return nod\n",
    "#Nro de enlaces\n",
    "def num_edges(archive):\n",
    "    data=ldata(archive)\n",
    "    g = nx.Graph ()\n",
    "    edges = []\n",
    "    for i in range (len(data)):\n",
    "        g.add_nodes_from (data[i])\n",
    "        g.add_edge (data[i][0],data[i][1])\n",
    "    g1 = g.to_undirected()\n",
    "    L=g1.number_of_edges()\n",
    "    edges.append (L)\n",
    "    return edges\n",
    "#Ejercicio 1.c VER SI ES DIRIGIDA\n",
    "def dirigida(archive):\n",
    "    data=ldata(archive)\n",
    "    h=0\n",
    "#    r=[]\n",
    "#    t=[]\n",
    "    for i in range(len(data)):\n",
    "        for j in range(len(data)):\n",
    "            if data[i][0] == data[j][1]:\n",
    "                if data[i][1] == data[j][0]:\n",
    "                    h=h+1                \n",
    "    return h\n",
    "#TABLA\n",
    "tabla_red = pd.DataFrame ({\"Redes\":[\"AP_MS\",\"LIT\",\"Y2H\"],\n",
    "                             \"Num_Nodos\":[num_nod(\"yeast_AP-MS.txt\"),num_nod(\"yeast_LIT.txt\"),num_nod(\"yeast_Y2H.txt\")],\n",
    "                             \"Num_Enlaces\":[num_edges(\"yeast_AP-MS.txt\"),num_edges(\"yeast_LIT.txt\"),num_edges(\"yeast_Y2H.txt\")],\n",
    "                             \"No-Dirigida\":[dirigida(\"yeast_AP-MS.txt\") == 0,dirigida(\"yeast_LIT.txt\") == 0,dirigida(\"yeast_Y2H.txt\") == 0],\n",
    "                             \"Densidad_Red\":[0,0,3],\n",
    "                            \"Coef_de_Clus\":[0,0,0],\n",
    "                          })\n",
    "print (tabla_red)\n",
    "\n"
   ]
  }
 ],
 "metadata": {
  "kernelspec": {
   "display_name": "Python 3",
   "language": "python",
   "name": "python3"
  },
  "language_info": {
   "codemirror_mode": {
    "name": "ipython",
    "version": 3
   },
   "file_extension": ".py",
   "mimetype": "text/x-python",
   "name": "python",
   "nbconvert_exporter": "python",
   "pygments_lexer": "ipython3",
   "version": "3.6.5"
  }
 },
 "nbformat": 4,
 "nbformat_minor": 2
}
