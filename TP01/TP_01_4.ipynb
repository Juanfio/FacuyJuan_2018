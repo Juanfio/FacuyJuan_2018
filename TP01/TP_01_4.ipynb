{
 "cells": [
  {
   "cell_type": "code",
   "execution_count": 4,
   "metadata": {},
   "outputs": [
    {
     "name": "stdout",
     "output_type": "stream",
     "text": [
      "[-0.44417355  6.32762496]\n"
     ]
    },
    {
     "data": {
      "image/png": "[encoded data removed]",
      "text/plain": [
       "<Figure size 432x288 with 1 Axes>"
      ]
     },
     "metadata": {},
     "output_type": "display_data"
    },
    {
     "data": {
      "text/plain": [
       "-0.19838487512056477"
      ]
     },
     "execution_count": 4,
     "metadata": {},
     "output_type": "execute_result"
    }
   ],
   "source": [
    "import networkx as nx\n",
    "import pandas as pd\n",
    "import matplotlib.pylab as plt\n",
    "import numpy as np\n",
    "import random as rm\n",
    "from scipy import optimize\n",
    "\n",
    "science = nx.read_gml(\"netscience.gml\")\n",
    "july = nx.read_gml(\"as-22july06.gml\")\n",
    "\n",
    "#--------------------------------------------------------------------------------------------------------------------------------\n",
    "def ej_4(grafo):\n",
    "    #ARMO UNA LISTA DE LOS NODOS.\n",
    "    grafo_nodos = grafo.nodes()\n",
    "    grafo_nodos_lista = list(grafo_nodos) #ESTO TRANSFORMA A LISTA CUALQUIER VARIABLE. ACA TENGO LOS NODOS.\n",
    "\n",
    "#VEO LAS UNIONES DE ESOS NODOS.\n",
    "    uniones = []\n",
    "    for i in range (len(grafo_nodos_lista)):\n",
    "        union = []\n",
    "        for nodo in grafo.neighbors(grafo_nodos_lista[i]):\n",
    "            union.append(nodo)\n",
    "        uniones.append(union)\n",
    "#VEO EL GRADO DE CADA NODO.\n",
    "    grados_por_nodo = []\n",
    "    for l in range (len(grafo_nodos_lista)):\n",
    "        grado_nodo_l = grafo.degree(grafo_nodos_lista[l])\n",
    "        grados_por_nodo.append(grado_nodo_l)\n",
    "\n",
    "#VEO EL GRADO DE MIS VECINOS.\n",
    "    grados_vecino_por_nodo = []\n",
    "    for l in range (len(uniones)):\n",
    "        grados_nodos_vecinos = []\n",
    "        for m in range (len(uniones[l])):\n",
    "            grado_nodo_m = grafo.degree(uniones[l][m])\n",
    "            grados_nodos_vecinos.append(grado_nodo_m)\n",
    "        grados_vecino_por_nodo.append(grados_nodos_vecinos)\n",
    "\n",
    "#CALCULO VALOR MEDIO DE LOS VECINOS DE NODOS DE GRADO K.\n",
    "    promedio_vecinos = []\n",
    "    for i in grados_vecino_por_nodo:\n",
    "        val_medio_por_vecinos = np.mean (i)\n",
    "        promedio_vecinos.append (val_medio_por_vecinos)\n",
    "\n",
    "    nombre_gnodo_gvecinos = []\n",
    "    for n,g,v in zip(grafo_nodos_lista,grados_por_nodo,promedio_vecinos):\n",
    "        nombre_gnodo_gvecinos.append([n,g,v])\n",
    "\n",
    "    gnodo_vmedio_vecinos = []\n",
    "    grados = list(set(grados_por_nodo))\n",
    "    for grado in grados:\n",
    "        m = []\n",
    "        for i in nombre_gnodo_gvecinos:\n",
    "            if i[1] == grado:\n",
    "                 m.append(i[2])\n",
    "        m_valmedio = np.mean (m)\n",
    "        gnodo_vmedio_vecinos.append([grado,m_valmedio])\n",
    "\n",
    "    x = np.zeros (len(gnodo_vmedio_vecinos))\n",
    "    y = np.zeros (len(gnodo_vmedio_vecinos))\n",
    "    for i in range (len(gnodo_vmedio_vecinos)):\n",
    "        x[i] = gnodo_vmedio_vecinos[i][0]\n",
    "        y[i] = gnodo_vmedio_vecinos[i][1]\n",
    "\n",
    "    x_log = np.log (x)\n",
    "    y_log = np.log (y)\n",
    "\n",
    "    #CON ESTO ARMO LA FUNCION QUE FITEA LOS DATOS LOGARITMICOS.\n",
    "    fitfunc = lambda p, x_log: p[0]*x_log+p[1]\n",
    "    p0 = [1, 1]\n",
    "\n",
    "    errfunc = lambda p, x_log, y_log: fitfunc(p, x_log) - y_log\n",
    "    p1, suc = optimize.leastsq(errfunc, p0[:], args=(x_log, y_log)) #EL P1 TIENE LOS ELEMENTOS DE MI FITEO. los parametros de mi lineal.\n",
    "    plt.plot(x_log, y_log, \"ro\", x_log, fitfunc(p1, x_log), \"k-\", linewidth=3)\n",
    "    print (p1)\n",
    "\n",
    "    #plt.plot (np.log(x),np.log(y),\"r.\")\n",
    "\n",
    "    plt.show ()\n",
    "    \n",
    "    #CALCULO ASORTATIVIDAD\n",
    "    S1=sum(grados_por_nodo)\n",
    "   \n",
    "    S2=0\n",
    "    for grado in grados_por_nodo:\n",
    "        S2 = S2 + grado**2\n",
    "    \n",
    "    Se = 0\n",
    "    for i,j in zip(nombre_gnodo_gvecinos,uniones):\n",
    "        ki = i[1]\n",
    "        for h in range(len(j)):\n",
    "            kj=grafo.degree(j[h])\n",
    "            Se = Se + ki*kj\n",
    "            \n",
    "    S3 = 0\n",
    "    for grado in grados_por_nodo:\n",
    "        S3 = S3 + grado**3\n",
    "        \n",
    "    r = (S1*Se-S2**2)/(S1*S3-S2**2) #ASORTATIVIDAD\n",
    "    \n",
    "    return r\n",
    "#--------------------------------------------------------------------------------------------------------------------------------\n",
    "\n",
    "ej_4(july)\n",
    "\n",
    "ej_4(science)\n"
   ]
  },
  {
   "cell_type": "code",
   "execution_count": 5,
   "metadata": {},
   "outputs": [
    {
     "name": "stdout",
     "output_type": "stream",
     "text": [
      "[0.59928924 1.51258712]\n"
     ]
    },
    {
     "data": {
      "image/png": "[encoded data removed]",
      "text/plain": [
       "<Figure size 432x288 with 1 Axes>"
      ]
     },
     "metadata": {},
     "output_type": "display_data"
    },
    {
     "name": "stdout",
     "output_type": "stream",
     "text": [
      "[0.06744378 2.03314733]\n"
     ]
    },
    {
     "data": {
      "image/png": "[encoded data removed]",
      "text/plain": [
       "<Figure size 432x288 with 1 Axes>"
      ]
     },
     "metadata": {},
     "output_type": "display_data"
    },
    {
     "name": "stdout",
     "output_type": "stream",
     "text": [
      "[-0.17757987  2.7520941 ]\n"
     ]
    },
    {
     "data": {
      "image/png": "[encoded data removed]",
      "text/plain": [
       "<Figure size 432x288 with 1 Axes>"
      ]
     },
     "metadata": {},
     "output_type": "display_data"
    }
   ],
   "source": [
    "#4.B\n",
    "import networkx as nx\n",
    "import pandas as pd\n",
    "import matplotlib.pylab as plt\n",
    "import numpy as np\n",
    "import random as rm\n",
    "from scipy import optimize\n",
    "\n",
    "\n",
    "def ldata(archive):\n",
    "    f=open(archive)\n",
    "    data=[]\n",
    "    for line in f:\n",
    "        line=line.strip()\n",
    "        col=line.split()\n",
    "        data.append(col)\n",
    "    return data\n",
    "\n",
    "#--------------------------------------------------------------------------------------------------------------------------------\n",
    "def ej_4b(archive):\n",
    "    \n",
    "    data = ldata(archive)\n",
    "    grafo = nx.Graph ()\n",
    "    \n",
    "    for i in range (len(data)):\n",
    "        grafo.add_nodes_from (data[i])\n",
    "        grafo.add_edge (data[i][0],data[i][1])\n",
    "    \n",
    "    #ARMO UNA LISTA DE LOS NODOS.\n",
    "    grafo_nodos = grafo.nodes()\n",
    "    grafo_nodos_lista = list(grafo_nodos) #ESTO TRANSFORMA A LISTA CUALQUIER VARIABLE. ACA TENGO LOS NODOS.\n",
    "\n",
    "#VEO LAS UNIONES DE ESOS NODOS.\n",
    "    uniones = []\n",
    "    for i in range (len(grafo_nodos_lista)):\n",
    "        union = []\n",
    "        for nodo in grafo.neighbors(grafo_nodos_lista[i]):\n",
    "            union.append(nodo)\n",
    "        uniones.append(union)\n",
    "#VEO EL GRADO DE CADA NODO.\n",
    "    grados_por_nodo = []\n",
    "    for l in range (len(grafo_nodos_lista)):\n",
    "        grado_nodo_l = grafo.degree(grafo_nodos_lista[l])\n",
    "        grados_por_nodo.append(grado_nodo_l)\n",
    "\n",
    "#VEO EL GRADO DE MIS VECINOS.\n",
    "    grados_vecino_por_nodo = []\n",
    "    for l in range (len(uniones)):\n",
    "        grados_nodos_vecinos = []\n",
    "        for m in range (len(uniones[l])):\n",
    "            grado_nodo_m = grafo.degree(uniones[l][m])\n",
    "            grados_nodos_vecinos.append(grado_nodo_m)\n",
    "        grados_vecino_por_nodo.append(grados_nodos_vecinos)\n",
    "\n",
    "#CALCULO VALOR MEDIO DE LOS VECINOS DE NODOS DE GRADO K.\n",
    "    promedio_vecinos = []\n",
    "    for i in grados_vecino_por_nodo:\n",
    "        val_medio_por_vecinos = np.mean (i)\n",
    "        promedio_vecinos.append (val_medio_por_vecinos)\n",
    "\n",
    "    nombre_gnodo_gvecinos = []\n",
    "    for n,g,v in zip(grafo_nodos_lista,grados_por_nodo,promedio_vecinos):\n",
    "        nombre_gnodo_gvecinos.append([n,g,v])\n",
    "\n",
    "    gnodo_vmedio_vecinos = []\n",
    "    grados = list(set(grados_por_nodo))\n",
    "    for grado in grados:\n",
    "        m = []\n",
    "        for i in nombre_gnodo_gvecinos:\n",
    "            if i[1] == grado:\n",
    "                 m.append(i[2])\n",
    "        m_valmedio = np.mean (m)\n",
    "        gnodo_vmedio_vecinos.append([grado,m_valmedio])\n",
    "\n",
    "    x = np.zeros (len(gnodo_vmedio_vecinos))\n",
    "    y = np.zeros (len(gnodo_vmedio_vecinos))\n",
    "    for i in range (len(gnodo_vmedio_vecinos)):\n",
    "        x[i] = gnodo_vmedio_vecinos[i][0]\n",
    "        y[i] = gnodo_vmedio_vecinos[i][1]\n",
    "\n",
    "    x_log = np.log (x)\n",
    "    y_log = np.log (y)\n",
    "\n",
    "    #CON ESTO ARMO LA FUNCION QUE FITEA LOS DATOS LOGARITMICOS.\n",
    "    fitfunc = lambda p, x_log: p[0]*x_log+p[1]\n",
    "    p0 = [1, 1]\n",
    "\n",
    "    errfunc = lambda p, x_log, y_log: fitfunc(p, x_log) - y_log\n",
    "    p1, suc = optimize.leastsq(errfunc, p0[:], args=(x_log, y_log)) #EL P1 TIENE LOS ELEMENTOS DE MI FITEO. los parametros de mi lineal.\n",
    "    plt.plot(x_log, y_log, \"ro\", x_log, fitfunc(p1, x_log), \"k-\", linewidth=3)\n",
    "    print (p1)\n",
    "\n",
    "    #plt.plot (np.log(x),np.log(y),\"r.\")\n",
    "\n",
    "    plt.show ()\n",
    "#----------------------------------------------------------------------------------------------------------------------------------\n",
    "\n",
    "ej_4b('yeast_AP-MS.txt')\n",
    "\n",
    "ej_4b('yeast_LIT.txt')\n",
    "\n",
    "ej_4b('yeast_Y2H.txt')\n"
   ]
  },
  {
   "cell_type": "code",
   "execution_count": null,
   "metadata": {},
   "outputs": [],
   "source": []
  },
  {
   "cell_type": "code",
   "execution_count": 10,
   "metadata": {},
   "outputs": [
    {
     "data": {
      "text/plain": [
       "18"
      ]
     },
     "execution_count": 10,
     "metadata": {},
     "output_type": "execute_result"
    }
   ],
   "source": []
  },
  {
   "cell_type": "code",
   "execution_count": null,
   "metadata": {},
   "outputs": [],
   "source": []
  }
 ],
 "metadata": {
  "kernelspec": {
   "display_name": "Python 3",
   "language": "python",
   "name": "python3"
  },
  "language_info": {
   "codemirror_mode": {
    "name": "ipython",
    "version": 3
   },
   "file_extension": ".py",
   "mimetype": "text/x-python",
   "name": "python",
   "nbconvert_exporter": "python",
   "pygments_lexer": "ipython3",
   "version": "3.6.5"
  }
 },
 "nbformat": 4,
 "nbformat_minor": 2
}
