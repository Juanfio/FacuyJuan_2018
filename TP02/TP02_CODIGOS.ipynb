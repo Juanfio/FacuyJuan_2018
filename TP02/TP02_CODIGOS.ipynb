{
 "cells": [
  {
   "cell_type": "code",
   "execution_count": 2,
   "metadata": {},
   "outputs": [
    {
     "data": {
      "text/plain": [
       "<Figure size 640x480 with 1 Axes>"
      ]
     },
     "metadata": {},
     "output_type": "display_data"
    },
    {
     "data": {
      "text/plain": [
       "<Figure size 640x480 with 1 Axes>"
      ]
     },
     "metadata": {},
     "output_type": "display_data"
    },
    {
     "data": {
      "text/plain": [
       "<Figure size 640x480 with 1 Axes>"
      ]
     },
     "metadata": {},
     "output_type": "display_data"
    }
   ],
   "source": [
    "#TABLA 1 ZOTENKO\n",
    "import numpy as np\n",
    "import matplotlib.pylab as plt\n",
    "import networkx as nx\n",
    "import pandas as pd\n",
    "\n",
    "def ldata(archive):\n",
    "    f=open(archive)\n",
    "    data=[]\n",
    "    for line in f:\n",
    "        line=line.strip()\n",
    "        col=line.split()\n",
    "        data.append(col)\n",
    "    return data\n",
    "    \n",
    "#grafico de nodos\n",
    "def graficar(archive):\n",
    "\n",
    "    data=ldata(archive)\n",
    "    g = nx.Graph ()\n",
    "    g = g.to_undirected()\n",
    "    \n",
    "    for i in range (len(data)):\n",
    "        g.add_nodes_from (data[i])\n",
    "        g.add_edge (data[i][0],data[i][1])\n",
    "        \n",
    "    nx.draw(g,node_size = 40,with_labels=False, font_weight='bold')\n",
    "    plt.show()\n",
    "\n",
    "graficar('tc02Data/yeast_AP-MS.txt')    \n",
    "graficar('tc02Data/yeast_LIT.txt')\n",
    "graficar('tc02Data/yeast_Y2H.txt')"
   ]
  },
  {
   "cell_type": "code",
   "execution_count": 3,
   "metadata": {},
   "outputs": [
    {
     "name": "stdout",
     "output_type": "stream",
     "text": [
      "        Redes  Numero de Nodos  Numero de Enlaces  Grado Medio      <Ci>\n",
      "0       AP_MS             1622               9070    11.183724  0.554636\n",
      "1         LIT             1536               2925     3.808594  0.339892\n",
      "2         Y2H             2018               2930     2.903865  0.153985\n",
      "3  LIT_Reguly            12222              11859     1.940599  0.104464\n"
     ]
    }
   ],
   "source": [
    "#2) Tabla 1\n",
    "def data_de_red(archive):\n",
    "\n",
    "    RTA=[]\n",
    "    data=ldata(archive)\n",
    "    g = nx.Graph ()\n",
    "    g = g.to_undirected()\n",
    "\n",
    "    for i in range (len(data)):\n",
    "        g.add_nodes_from (data[i])\n",
    "        g.add_edge (data[i][0],data[i][1])\n",
    "\n",
    "    #Número de nodos\n",
    "    N=g.number_of_nodes()\n",
    "\n",
    "    #Número de enlaces\n",
    "    L=g.number_of_edges()\n",
    "\n",
    "    #Grado medio de la red\n",
    "    k=[]\n",
    "    for node in g.nodes:\n",
    "        k.append(g.degree(node)) #El comando g.degree() calcula el grado como \n",
    "                                #si la red fuese no-dirigida\n",
    "    km = sum(k)/len(k)  #valor medio de k  \n",
    "    \n",
    "    #Coeficiente de clustering\n",
    "\n",
    "    Nodo_gnodo_vecino_gvecino_vecinossegundos=[] #Creo una lista con los nodos,  \n",
    "    for nodo in g.nodes():                      #sus grados, sus vecinos, los \n",
    "        v=[]                                    #grados de sus vecinos y sus \n",
    "        for vecino in g.neighbors(nodo):        #vecinos segundos\n",
    "            v2=[]\n",
    "            for vecino2 in g.neighbors(vecino):\n",
    "                v2.append(vecino2)\n",
    "            gv=len(v2)\n",
    "            v.append([vecino,gv,v2])\n",
    "        gn=len(v)\n",
    "        Nodo_gnodo_vecino_gvecino_vecinossegundos.append([nodo,gn,v])\n",
    "\n",
    "    #Ahora calculo el <Ci>\n",
    "    t=-1\n",
    "    C=np.zeros(len(g.nodes()))\n",
    "\n",
    "    #Calculo la cantidad de enlaces entre vecinos\n",
    "    for n in Nodo_gnodo_vecino_gvecino_vecinossegundos:\n",
    "        E = 0\n",
    "        t=t+1\n",
    "        for i in range(len(n[2])):\n",
    "            for j in range(len(n[2])):\n",
    "                for k in range(len(n[2][i][2])):\n",
    "                    if n[2][i][2][k] == n[2][j][0]:\n",
    "                        E = E + 1 #Cuento los enlaces entre vecinos del nodo n. \n",
    "                                  #Haciendo esto, se cuentan dos veces.\n",
    "\n",
    "        if n[1] > 1: #Si el grado es menor o igual a 1, entonces el coeficiente \n",
    "                     #de clustering es nulo\n",
    "            C[t]=E/(n[1]*(n[1]-1)) #Como es una red no dirigida, debería \n",
    "                                   #multiplicar por dos, pero ese factor esta \n",
    "                                   #contemplado en el numero de enlaces \n",
    "                                   #calculados dado que se repiten dos veces\n",
    "\n",
    "    CPromedio=sum(C)/len(C)\n",
    "\n",
    "    RTA.append([N, L, km, CPromedio])\n",
    "\n",
    "    return RTA\n",
    "\n",
    "AP = data_de_red('tc02Data/yeast_AP-MS.txt')\n",
    "LIT = data_de_red('tc02Data/yeast_LIT.txt')\n",
    "Y2H = data_de_red('tc02Data/yeast_Y2H.txt')\n",
    "LIT_REGULY = data_de_red('tc02Data/yeast_LIT_Reguly.txt')\n",
    "\n",
    "#TABLA\n",
    "tabla_red = pd.DataFrame ({\"Redes\":[\"AP_MS\",\"LIT\",\"Y2H\",\"LIT_Reguly\"],\n",
    "                           \"Numero de Nodos\":[AP[0][0],LIT[0][0],Y2H[0][0],LIT_REGULY[0][0]],\n",
    "                           \"Numero de Enlaces\":[AP[0][1],LIT[0][1],Y2H[0][1],LIT_REGULY[0][1]],\n",
    "                           \"Grado Medio\":[AP[0][2],LIT[0][2],Y2H[0][2],LIT_REGULY[0][2]],\n",
    "                           \"<Ci>\":[AP[0][3],LIT[0][3],Y2H[0][3],LIT_REGULY[0][3]]})\n",
    "print (tabla_red)"
   ]
  },
  {
   "cell_type": "code",
   "execution_count": 4,
   "metadata": {},
   "outputs": [],
   "source": [
    "#TABLA 2 ZOTENKO\n",
    "#Creo una funcion que agarre los enlaces de cada nodo y los compare con las otras redes\n",
    "LIT_REGULYY = ldata ('tc02Data/yeast_LIT_Reguly.txt')\n",
    "LIT_REGULYYY = []\n",
    "for i in range(1,len(LIT_REGULYY)):\n",
    "    LIT_REGULYYY.append([LIT_REGULYY[i][0],LIT_REGULYY[i][1]])\n",
    "#print(LIT_REGULYYY)"
   ]
  },
  {
   "cell_type": "code",
   "execution_count": 104,
   "metadata": {},
   "outputs": [],
   "source": [
    "#2) Tabla2\n",
    "def invertir(lista):\n",
    "    rlista=[]\n",
    "    for i in range(len(lista)):\n",
    "        rlista.append(lista[len(lista)-1-i])\n",
    "    return rlista\n",
    "\n",
    "APP = ldata ('tc02Data/yeast_AP-MS.txt')\n",
    "LITT = ldata ('tc02Data/yeast_LIT.txt')\n",
    "Y2HH = ldata ('tc02Data/yeast_Y2H.txt')\n",
    "LIT_REGULYY = ldata ('tc02Data/yeast_LIT_Reguly.txt')\n",
    "\n",
    "LIT_REGULYYY = []\n",
    "for i in range(1,len(LIT_REGULYY)):\n",
    "    LIT_REGULYYY.append([LIT_REGULYY[i][0],LIT_REGULYY[i][1]])\n",
    "\n",
    "\n",
    "def overlap(data1,data2,data3,data4):\n",
    "    datas = [data1,data2,data3,data4]\n",
    "    overlap_list = []\n",
    "    for i in range(len(datas)):\n",
    "        i_list=[]\n",
    "        for j in range(i+1,len(datas)):\n",
    "            count = 0\n",
    "            for l in range (len(datas[i])):\n",
    "                if datas[i][l] in datas[j]:\n",
    "                    count = count + 1\n",
    "                else:\n",
    "                    invert = invertir(datas[i][l])\n",
    "                    if invert in datas[j]:\n",
    "                        count = count + 1\n",
    "            i_list.append(count)\n",
    "        overlap_list.append(i_list)\n",
    "    return overlap_list\n",
    "\n",
    "\n",
    "overlap_list = overlap(APP,LITT,Y2HH,LIT_REGULYYY)\n"
   ]
  },
  {
   "cell_type": "code",
   "execution_count": 105,
   "metadata": {},
   "outputs": [
    {
     "name": "stdout",
     "output_type": "stream",
     "text": [
      "           -         --        ---        ----\n",
      "0      AP_MS   0.443761  0.0887372    0.212497\n",
      "1   0.143109        LIT  0.0887372    0.241167\n",
      "2  0.0286659  0.0888889        Y2H   0.0403913\n",
      "3   0.277839   0.977778   0.163481  LIT_Reguly\n"
     ]
    }
   ],
   "source": [
    "#TABLA\n",
    "tabla_red = pd.DataFrame ({\"-\":[\"AP_MS\",overlap_list[0][0]/AP[0][1],overlap_list[0][1]/AP[0][1],overlap_list[0][2]/AP[0][1]],\n",
    "                           \"--\":[overlap_list[0][0]/LIT[0][1],\"LIT\",overlap_list[1][0]/LIT[0][1],overlap_list[1][1]/LIT[0][1]],\n",
    "                           \"---\":[overlap_list[0][1]/Y2H[0][1],overlap_list[1][0]/Y2H[0][1],\"Y2H\",overlap_list[2][0]/Y2H[0][1]],\n",
    "                           \"----\":[overlap_list[0][2]/LIT_REGULY[0][1],overlap_list[1][1]/LIT_REGULY[0][1],overlap_list[2][0]/LIT_REGULY[0][1],\"LIT_Reguly\"]})\n",
    "print (tabla_red)\n",
    "\n"
   ]
  },
  {
   "cell_type": "code",
   "execution_count": 78,
   "metadata": {},
   "outputs": [
    {
     "data": {
      "image/png": "[encoded data removed]",
      "text/plain": [
       "<matplotlib.figure.Figure at 0x7f6dfbf47160>"
      ]
     },
     "metadata": {},
     "output_type": "display_data"
    }
   ],
   "source": [
    "#2) Grafico 3\n",
    "def asignar_esencialidad(data):\n",
    "    escen = ldata ('tc02Data/Essential_ORFs_paperHe.txt')\n",
    "    #data=ldata(archive)\n",
    "    g = nx.Graph ()\n",
    "    g = g.to_undirected()\n",
    "\n",
    "    for i in range (len(data)):\n",
    "        g.add_nodes_from (data[i])\n",
    "        g.add_edge (data[i][0],data[i][1])\n",
    "        \n",
    "    N=g.number_of_nodes()\n",
    "    \n",
    "    k=[]\n",
    "    for node in g.nodes:\n",
    "        k.append(g.degree(node))\n",
    "    \n",
    "    kM = max(k)\n",
    "    \n",
    "    nodos=[]\n",
    "          \n",
    "    for node in g.nodes():\n",
    "        g.node[node]['escencialidad']='no escencial'\n",
    "        nodos.append([node,'no escencial'])\n",
    "        h=nodos.index([node,'no escencial'])\n",
    "        for j in range(len(escen)):\n",
    "\n",
    "            if len(escen[j]) > 2 and node in escen[j][1]: #No me interesan las listas con largo menor a 2\n",
    "                g.node[node]['escencialidad']='escencial'\n",
    "                nodos[h][1]='escencial'\n",
    "        \n",
    "    frac_Hubs_total = []\n",
    "    frac_Escen_Hubs = []\n",
    "    for k in range(1,kM):#defino el kcutoff\n",
    "        contadorH = 0\n",
    "        contadorE = 0\n",
    "        for node in nodos:\n",
    "            #K_cutoff.append(0)\n",
    "            if g.degree(node[0]) > k:\n",
    "                contadorH = contadorH + 1\n",
    "                if node[1] == 'escencial':\n",
    "                    contadorE = contadorE + 1\n",
    "                    \n",
    "        frac_Hubs_total.append(contadorH/N)\n",
    "        \n",
    "        frac_Escen_Hubs.append(contadorE/contadorH)\n",
    "\n",
    "    #print(frac_Hubs_total)\n",
    "    #print(frac_Escen_Hubs)\n",
    "    plt.plot(frac_Hubs_total,frac_Escen_Hubs)\n",
    "    plt.xlabel('Fraccion de Hubs sobre total de nodos')\n",
    "    plt.ylabel('Fraccion de Nodos escenciales sobre total de Hubs')\n",
    "\n",
    "\n",
    "asignar_esencialidad(APP)\n",
    "asignar_esencialidad(LITT)\n",
    "asignar_esencialidad(Y2HH)\n",
    "asignar_esencialidad(LIT_REGULYYY)\n",
    "\n",
    "plt.show()\n",
    "\n",
    "\n",
    "#dataAPP = asignar_esencialidad(APP)\n",
    "#dataLIT = asignar_esencialidad(LITT)\n",
    "#dataY2HH = asignar_esencialidad(Y2HH)\n",
    "#dataLITREG = asignar_esencialidad(LIT_REGULYYY)"
   ]
  },
  {
   "cell_type": "code",
   "execution_count": 72,
   "metadata": {},
   "outputs": [
    {
     "data": {
      "text/plain": [
       "[1622, 1622, 1622, 1162]"
      ]
     },
     "execution_count": 72,
     "metadata": {},
     "output_type": "execute_result"
    }
   ],
   "source": [
    "#CELL DE PRUEBA\n",
    "def asignar_esencialidad(data):\n",
    "    escen = ldata ('tc02Data/Essential_ORFs_paperHe.txt')\n",
    "    #data=ldata(archive)\n",
    "    g = nx.Graph ()\n",
    "    g = g.to_undirected()\n",
    "\n",
    "    for i in range (len(data)):\n",
    "        g.add_nodes_from (data[i])\n",
    "        g.add_edge (data[i][0],data[i][1])\n",
    "        \n",
    "    N=g.number_of_nodes()\n",
    "    \n",
    "    k=[]\n",
    "    for node in g.nodes:\n",
    "        k.append(g.degree(node))\n",
    "    \n",
    "    kM = max(k)\n",
    "    \n",
    "    nodos=[]\n",
    "          \n",
    "    for node in g.nodes():\n",
    "        g.node[node]['escencialidad']='no escencial'\n",
    "        nodos.append([node,'no escencial'])\n",
    "        h=nodos.index([node,'no escencial'])\n",
    "        for j in range(len(escen)):\n",
    "            \n",
    "            if len(escen[j]) > 2 and node in escen[j][1]: #No me interesan las listas con largo menor a 2\n",
    "                g.node[node]['escencialidad']='escencial'\n",
    "                nodos[h][1]='escencial'\n",
    "\n",
    "                \n",
    "    ll=len(list(g.nodes()))\n",
    "    lll=len(nodos)\n",
    "    N\n",
    "    es=len(escen)\n",
    "    \n",
    "    return [ll,lll,N,es]\n",
    "\n",
    "asignar_esencialidad(APP)\n"
   ]
  }
 ],
 "metadata": {
  "kernelspec": {
   "display_name": "Python 3",
   "language": "python",
   "name": "python3"
  },
  "language_info": {
   "codemirror_mode": {
    "name": "ipython",
    "version": 3
   },
   "file_extension": ".py",
   "mimetype": "text/x-python",
   "name": "python",
   "nbconvert_exporter": "python",
   "pygments_lexer": "ipython3",
   "version": "3.6.5"
  }
 },
 "nbformat": 4,
 "nbformat_minor": 2
}
