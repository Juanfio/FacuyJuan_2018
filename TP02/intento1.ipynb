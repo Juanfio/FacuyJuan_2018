{
 "cells": [
  {
   "cell_type": "code",
   "execution_count": 2,
   "metadata": {},
   "outputs": [],
   "source": [
    "import numpy as np\n",
    "import matplotlib.pylab as plt\n",
    "import networkx as nx\n",
    "import pandas as pd\n",
    "import random\n",
    "\n",
    "def ldata(archive):\n",
    "    f=open(archive)\n",
    "    data=[]\n",
    "    for line in f:\n",
    "        line=line.strip()\n",
    "        col=line.split()\n",
    "        data.append(col)\n",
    "    return data\n",
    "    \n",
    "#grafico de nodos\n",
    "def graficar(archive):\n",
    "\n",
    "    data=ldata(archive)\n",
    "    g = nx.Graph ()\n",
    "    g = g.to_undirected()\n",
    "    \n",
    "    for i in range (len(data)):\n",
    "        g.add_nodes_from (data[i])\n",
    "        g.add_edge (data[i][0],data[i][1])"
   ]
  },
  {
   "cell_type": "code",
   "execution_count": 6,
   "metadata": {},
   "outputs": [],
   "source": [
    "def grafo (archive):\n",
    "    data=ldata(archive)\n",
    "    g = nx.Graph ()\n",
    "    g = g.to_undirected()\n",
    "\n",
    "    for i in range (len(data)):\n",
    "        g.add_nodes_from (data[i])\n",
    "        g.add_edge (data[i][0],data[i][1])\n",
    "    return g\n",
    "\n",
    "#La V es de vulnerabilidad.\n",
    "V_AP = grafo ('tc02Data/yeast_AP-MS.txt')\n",
    "# V_LIT = grafo ('tc02Data/yeast_LIT.txt')\n",
    "# V_Y2H = grafo ('tc02Data/yeast_Y2H.txt')\n",
    "# V_LIT_REGULY = grafo ('tc02Data/yeast_LIT_Reguly.txt')"
   ]
  },
  {
   "cell_type": "code",
   "execution_count": 5,
   "metadata": {},
   "outputs": [],
   "source": [
    "def asignar_esencialidad(g):  \n",
    "    \n",
    "    for node in g.nodes():\n",
    "        g.node[node]['escencialidad']='no escencial'\n",
    "        for j in range(len(escen)):\n",
    "            if len(escen[j]) > 2 and node in escen[j][1]: #No me interesan las listas con largo menor a 2\n",
    "                g.node[node]['escencialidad']='escencial'"
   ]
  },
  {
   "cell_type": "code",
   "execution_count": 9,
   "metadata": {},
   "outputs": [
    {
     "data": {
      "text/plain": [
       "1622"
      ]
     },
     "execution_count": 9,
     "metadata": {},
     "output_type": "execute_result"
    }
   ],
   "source": [
    "len(V_AP)\n",
    "V_AP.number_of_nodes()"
   ]
  },
  {
   "cell_type": "code",
   "execution_count": 18,
   "metadata": {},
   "outputs": [],
   "source": [
    "def impacto_grado (g,largo_red): #largo_red=400\n",
    "    x = []\n",
    "    y = []\n",
    "    #Tomo la componente gigante de mi grafo. Como criterio se toma el largo (key = len) y tomo el subgrafo con el máximo.\n",
    "    comp_gig = max (nx.connected_component_subgraphs(g) , key = len)\n",
    "    N = int (comp_gig.number_of_nodes())\n",
    "    i = 0\n",
    "    while len (comp_gig) > largo_red: #Modificando el numero podemos determinar hasta cuando va a analizar el largo de la red.\n",
    "        nodos = [] #Nodos de la componente gigante.\n",
    "        grados = [] #Grado de ellos.\n",
    "        for node in  comp_gig.nodes:\n",
    "            nodos.append (node)\n",
    "            grados.append (comp_gig.degree(node))\n",
    "        indice_nodo_grado_mayor = grados.index(max(grados))\n",
    "        comp_gig.remove_node(nodos[indice_nodo_grado_mayor])\n",
    "        i = i + 1\n",
    "        x.append (i/float (N))\n",
    "        comp_gig = max (nx.connected_component_subgraphs(comp_gig) , key = len)\n",
    "        y.append(len(comp_gig)/float (N)) #IMPORTANTE:El numerador es el largo NUEVO de la componente gigante y\n",
    "                                          #el denominador te da el largo antes de la extracción del nodo central.\n",
    "        \n",
    "    todo = [x,y]\n",
    "    return todo"
   ]
  },
  {
   "cell_type": "code",
   "execution_count": 15,
   "metadata": {},
   "outputs": [],
   "source": [
    "grado=impacto_grado(V_AP,10)"
   ]
  },
  {
   "cell_type": "code",
   "execution_count": 16,
   "metadata": {},
   "outputs": [
    {
     "data": {
      "image/png": "[encoded data removed]",
      "text/plain": [
       "<Figure size 432x288 with 1 Axes>"
      ]
     },
     "metadata": {},
     "output_type": "display_data"
    }
   ],
   "source": [
    "plt.plot(grado[0],grado[1])\n",
    "plt.show()"
   ]
  },
  {
   "cell_type": "code",
   "execution_count": null,
   "metadata": {},
   "outputs": [],
   "source": []
  }
 ],
 "metadata": {
  "kernelspec": {
   "display_name": "Python 3",
   "language": "python",
   "name": "python3"
  },
  "language_info": {
   "codemirror_mode": {
    "name": "ipython",
    "version": 3
   },
   "file_extension": ".py",
   "mimetype": "text/x-python",
   "name": "python",
   "nbconvert_exporter": "python",
   "pygments_lexer": "ipython3",
   "version": "3.6.5"
  }
 },
 "nbformat": 4,
 "nbformat_minor": 2
}
