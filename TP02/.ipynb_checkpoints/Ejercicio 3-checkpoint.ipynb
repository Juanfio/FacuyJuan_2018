{
 "cells": [
  {
   "cell_type": "code",
   "execution_count": 62,
   "metadata": {},
   "outputs": [],
   "source": [
    "import numpy as np\n",
    "import matplotlib.pylab as plt\n",
    "import networkx as nx\n",
    "import pandas as pd\n",
    "from scipy import optimize\n",
    "import random"
   ]
  },
  {
   "cell_type": "markdown",
   "metadata": {},
   "source": [
    "## Funciones útiles"
   ]
  },
  {
   "cell_type": "code",
   "execution_count": 117,
   "metadata": {},
   "outputs": [],
   "source": [
    "def ldata(archive):\n",
    "    f=open(archive)\n",
    "    data=[]\n",
    "    for line in f:\n",
    "        line=line.strip()\n",
    "        col=line.split()\n",
    "        data.append(col)\n",
    "    return data"
   ]
  },
  {
   "cell_type": "code",
   "execution_count": 118,
   "metadata": {},
   "outputs": [],
   "source": [
    "def asignar_esencialidad(g):  \n",
    "    escen = ldata ('tc02Data/Essential_ORFs_paperHe.txt')\n",
    "    escenciales=[]\n",
    "    for j in range(len(escen)):\n",
    "        if len(escen[j])>1:\n",
    "            escenciales.append(escen[j][1])\n",
    "#     print(escenciales)    \n",
    "    e=[]\n",
    "    for node in g.nodes:\n",
    "        if node in escenciales:\n",
    "            g.node[node]['escencialidad']='escencial'\n",
    "            e.append(node)\n",
    "        else:\n",
    "            g.node[node]['escencialidad']='no escencial'\n",
    "#     print(e)\n",
    "    return g"
   ]
  },
  {
   "cell_type": "code",
   "execution_count": 119,
   "metadata": {},
   "outputs": [],
   "source": [
    "def grafo (archive):\n",
    "    data=ldata(archive)\n",
    "    g = nx.Graph ()\n",
    "    g = g.to_undirected()\n",
    "\n",
    "    for i in range (len(data)):\n",
    "        g.add_nodes_from (data[i])\n",
    "        g.add_edge (data[i][0],data[i][1])\n",
    "    return g\n",
    "\n",
    "#Grafos\n",
    "gAP = grafo ('tc02Data/yeast_AP-MS.txt')\n",
    "gLIT = grafo ('tc02Data/yeast_LIT.txt')\n",
    "gY2H = grafo ('tc02Data/yeast_Y2H.txt')\n",
    "\n",
    "Lit_Reg = ldata ('tc02Data/yeast_LIT_Reguly.txt')\n",
    "Litreg = []\n",
    "\n",
    "for i in range(1,len(Lit_Reg)):\n",
    "    Litreg.append([Lit_Reg[i][0],Lit_Reg[i][1]])\n",
    "\n",
    "gLITr = nx.Graph ()\n",
    "gLITr = gLITr.to_undirected()\n",
    "\n",
    "for i in range (len(Litreg)):\n",
    "    gLITr.add_nodes_from (Litreg[i])\n",
    "    gLITr.add_edge (Litreg[i][0],Litreg[i][1])"
   ]
  },
  {
   "cell_type": "code",
   "execution_count": 108,
   "metadata": {},
   "outputs": [
    {
     "name": "stderr",
     "output_type": "stream",
     "text": [
      "C:\\ProgramData\\Anaconda3\\lib\\site-packages\\networkx\\drawing\\layout.py:499: RuntimeWarning: invalid value encountered in sqrt\n",
      "  distance = np.sqrt((delta**2).sum(axis=0))\n"
     ]
    },
    {
     "data": {
      "image/png": "[encoded data removed]",
      "text/plain": [
       "<Figure size 432x288 with 1 Axes>"
      ]
     },
     "metadata": {},
     "output_type": "display_data"
    }
   ],
   "source": [
    "nx.draw(gLITr,node_size = 40,with_labels=False, font_weight='bold')\n",
    "plt.show()\n"
   ]
  },
  {
   "cell_type": "code",
   "execution_count": 120,
   "metadata": {},
   "outputs": [],
   "source": [
    "def nro_de_enlaces_escenciales(g):\n",
    "    n = 0\n",
    "    for enlace in g.edges():\n",
    "        if g.node[enlace[0]]['escencialidad'] == 'escencial' and g.node[enlace[1]]['escencialidad'] == 'escencial':\n",
    "            n = n + 1\n",
    "    return n"
   ]
  },
  {
   "cell_type": "code",
   "execution_count": 121,
   "metadata": {},
   "outputs": [],
   "source": [
    "def ordenar_nodos_por_grado(g):\n",
    "    nodo_grados=[]\n",
    "    for node in g.nodes:\n",
    "        nodo_grados.append([node,g.degree[node]])\n",
    "        if g.degree(node) == 0:\n",
    "            nodo_grados.remove([node,g.degree[node]])\n",
    "    nodo_grados.sort(key=lambda grado: grado[1], reverse=True)\n",
    "    return nodo_grados"
   ]
  },
  {
   "cell_type": "markdown",
   "metadata": {},
   "source": [
    "### Coeficiente Alfa"
   ]
  },
  {
   "cell_type": "code",
   "execution_count": 71,
   "metadata": {},
   "outputs": [],
   "source": [
    "def coef_alfa(g,nro_vueltas):\n",
    "    #Asigno escencialidad\n",
    "    g = asignar_esencialidad(g)\n",
    "    #Calculo el n de la red original (IBEP)\n",
    "    n = nro_de_enlaces_escenciales(g)\n",
    "    \n",
    "    lista_de_m = []\n",
    "    \n",
    "    for _ in range(nro_vueltas):\n",
    "        nuevos_edges = []\n",
    "        nodo_grados = ordenar_nodos_por_grado(g)\n",
    "        while len(nodo_grados) > 1: #(II)\n",
    "            while nodo_grados[0][1] > 0:\n",
    "                nuevo_vecino = random.choice(nodo_grados[1:])\n",
    "                if [nodo_grados[0][0],nuevo_vecino[0]] not in nuevos_edges: #(III)\n",
    "                    nuevo_vecino[1] = nuevo_vecino[1] - 1\n",
    "                    nodo_grados[0][1] = nodo_grados[0][1] - 1\n",
    "                    #mi nueva lista de enlaces puede tener menos enlaces que la original,\n",
    "                    #pero no sera significativo\n",
    "                    nuevos_edges.append([nodo_grados[0][0],nuevo_vecino[0]]) \n",
    "                    if nuevo_vecino[1] == 0:\n",
    "                        nodo_grados.remove(nuevo_vecino)\n",
    "            nodo_grados.remove(nodo_grados[0])\n",
    "            #Reordeno la lista con los nodos redefinidos y con los nodos con k = 0 fuera\n",
    "            nodo_grados.sort(key=lambda grado: grado[1], reverse=True) \n",
    "\n",
    "        #me fijo cuantos enlaces escenciales tengo\n",
    "        m = 0\n",
    "        for enlace in nuevos_edges:\n",
    "            if g.node[enlace[0]]['escencialidad'] == 'escencial' and g.node[enlace[1]]['escencialidad'] == 'escencial':\n",
    "                m = m + 1\n",
    "        lista_de_m.append(m) \n",
    "    \n",
    "    m = sum(lista_de_m)/len(lista_de_m)\n",
    "    \n",
    "    alfa = ((n-m)/(g.number_of_edges()))*100\n",
    "      \n",
    "    return alfa,m"
   ]
  },
  {
   "cell_type": "code",
   "execution_count": 27,
   "metadata": {},
   "outputs": [
    {
     "name": "stdout",
     "output_type": "stream",
     "text": [
      "[3.3926621160409556, 176.595]\n"
     ]
    }
   ],
   "source": [
    "alfaY2H,mY2H = coef_alfa(gY2H,1000)\n",
    "print([alfaY2H,mY2H])"
   ]
  },
  {
   "cell_type": "code",
   "execution_count": 28,
   "metadata": {},
   "outputs": [
    {
     "name": "stdout",
     "output_type": "stream",
     "text": [
      "[9.153777777777778, 788.252]\n"
     ]
    }
   ],
   "source": [
    "alfaLIT,mLIT = coef_alfa(gLIT,1000)\n",
    "print([alfaLIT,mLIT])"
   ]
  },
  {
   "cell_type": "code",
   "execution_count": 110,
   "metadata": {},
   "outputs": [
    {
     "name": "stdout",
     "output_type": "stream",
     "text": [
      "[8.256872997132737, 2372.9]\n"
     ]
    }
   ],
   "source": [
    "alfaLITr,mLITr = coef_alfa(gLITr,100)\n",
    "print([alfaLITr,mLITr])"
   ]
  },
  {
   "cell_type": "markdown",
   "metadata": {},
   "source": [
    "### Coeficiente Beta"
   ]
  },
  {
   "cell_type": "code",
   "execution_count": 53,
   "metadata": {},
   "outputs": [],
   "source": [
    "def coef_beta(g,m,nro_de_vueltas):\n",
    "    g = asignar_esencialidad(g)\n",
    "    nro_escenciales = 0\n",
    "    for node in g.nodes():\n",
    "        if g.node[node]['escencialidad']=='escencial':\n",
    "            nro_escenciales = nro_escenciales + 1\n",
    "            \n",
    "    n = nro_de_enlaces_escenciales(g)\n",
    "    \n",
    "    betas = []\n",
    "    \n",
    "    for node in g.nodes:\n",
    "        betas.append([node,g.degree(node),0])\n",
    "    \n",
    "    for _ in range(nro_de_vueltas):\n",
    "        nodo_grados=[]\n",
    "        for node in g.nodes:\n",
    "            nodo_grados.append([node,g.degree[node]])\n",
    "        random.shuffle(nodo_grados)  \n",
    "\n",
    "        #Asigno (n-m) enlaces aleatorios y escencialidad a los nodos con esos enlaces\n",
    "        nuevos_enlaces = []\n",
    "        i = 0\n",
    "        while len(nuevos_enlaces) < int(n-m):\n",
    "            nodo = random.choice(nodo_grados)\n",
    "            if nodo_grados[i][0] != nodo [0] and [nodo[0],nodo_grados[i][0]] not in nuevos_enlaces:\n",
    "                nuevos_enlaces.append([nodo_grados[i][0],nodo[0]])\n",
    "                i = i + 1\n",
    "\n",
    "        #pongo a los nodos escenciales en una lista\n",
    "        nodos_escenciales=[]\n",
    "        for nod in nuevos_enlaces:\n",
    "            nodos_escenciales.append(nod[0])\n",
    "            nodos_escenciales.append(nod[1])\n",
    "        \n",
    "        nodos_escenciales = list(set(nodos_escenciales))\n",
    "        #pongo a los nodos  no escenciales en una lista\n",
    "\n",
    "        no_escenciales=[]\n",
    "\n",
    "        for node in nodo_grados:\n",
    "            if node[0] not in nodos_escenciales:\n",
    "                no_escenciales.append(node[0])\n",
    "\n",
    "        #Selecciono m nodos aleatoriamente y les asigno escencialidad\n",
    "        random.shuffle(no_escenciales)\n",
    "        \n",
    "        #Creo una lista que contenga a los nodos escenciales debido a factores que no son los enlaces escenciales\n",
    "        nuevos_escenciales = []\n",
    "        if len(nodos_escenciales)<nro_escenciales:\n",
    "            i = 0\n",
    "            while i < nro_escenciales:\n",
    "                nuevos_escenciales.append(no_escenciales[i])\n",
    "                i = i + 1\n",
    "\n",
    "        for i in range(len(betas)): #Beta para cada nodo[i] sera sum(r)/10000\n",
    "            if betas[i][0] in nuevos_escenciales:\n",
    "                betas[i][2] = betas[i][2] + 1/nro_de_vueltas\n",
    "\n",
    "    Beta = 0\n",
    "    for i in range(len(betas)):\n",
    "        Beta = Beta + betas[i][2]\n",
    "    Beta = Beta*100/len(betas)\n",
    "        \n",
    "    return Beta"
   ]
  },
  {
   "cell_type": "code",
   "execution_count": 123,
   "metadata": {},
   "outputs": [
    {
     "name": "stdout",
     "output_type": "stream",
     "text": [
      "22.348860257680094\n"
     ]
    }
   ],
   "source": [
    "betaY2H = coef_beta(gY2H,mY2H,10000)\n",
    "print(betaY2H)"
   ]
  },
  {
   "cell_type": "code",
   "execution_count": 70,
   "metadata": {},
   "outputs": [
    {
     "name": "stdout",
     "output_type": "stream",
     "text": [
      "40.885416666663815\n"
     ]
    }
   ],
   "source": [
    "betaLIT = coef_beta(gLIT,mLIT,10000)\n",
    "print(betaLIT)"
   ]
  },
  {
   "cell_type": "code",
   "execution_count": 122,
   "metadata": {},
   "outputs": [
    {
     "name": "stdout",
     "output_type": "stream",
     "text": [
      "0.0\n"
     ]
    }
   ],
   "source": [
    "betaLITr = coef_beta(gLITr,mLITr,10)\n",
    "print(betaLITr)"
   ]
  },
  {
   "cell_type": "code",
   "execution_count": 55,
   "metadata": {},
   "outputs": [],
   "source": [
    "def prob_escencial(g,kcutoff):\n",
    "    g = asignar_esencialidad(g)\n",
    "    PE=[]\n",
    "    PE2=[]\n",
    "    distribucion_de_grado=[]\n",
    "    grados=[]\n",
    "    \n",
    "    for node in g.nodes:\n",
    "        grados.append(g.degree(node))\n",
    "    \n",
    "    for k in range(max(list(grados))):\n",
    "        r = 0\n",
    "        for node in g.nodes:\n",
    "            if g.degree(node) == k:\n",
    "                r = r + 1\n",
    "        distribucion_de_grado.append([k,r])\n",
    "           \n",
    "    #Se analizaron los nodos hasta grado k = 12 porque para grados mayores hay poca cantidad de nodos.\n",
    "    for k in range(len(distribucion_de_grado)):\n",
    "        if distribucion_de_grado[k][1]>kcutoff:\n",
    "            cont_e = 0\n",
    "            for node in g.nodes:\n",
    "                if g.degree(node)==k and g.node[node]['escencialidad'] == \"escencial\":\n",
    "                        cont_e = cont_e + 1\n",
    "\n",
    "            PE.append([distribucion_de_grado[k][0],cont_e/distribucion_de_grado[k][1]])\n",
    "\n",
    "    x = np.zeros (len(PE))\n",
    "    y = np.zeros (len(PE))\n",
    "\n",
    "    for i in range(len(PE)):\n",
    "        x[i]=PE[i][0]\n",
    "        y[i]=PE[i][1]\n",
    "\n",
    "    return [x,y]"
   ]
  },
  {
   "cell_type": "code",
   "execution_count": 56,
   "metadata": {},
   "outputs": [],
   "source": [
    "PEY2H = prob_escencial(gY2H,12)\n",
    "PELIT = prob_escencial(gLIT,10)\n",
    "PELITr = prob_escencial(gLITr,10)"
   ]
  },
  {
   "cell_type": "code",
   "execution_count": 57,
   "metadata": {},
   "outputs": [
    {
     "name": "stdout",
     "output_type": "stream",
     "text": [
      "[array([1., 2., 3., 4., 5., 6., 7., 8., 9.]), array([0.22769231, 0.21980676, 0.19704433, 0.23529412, 0.1641791 ,\n",
      "       0.21428571, 0.22857143, 0.42857143, 0.26315789])]\n",
      "[array([ 1.,  2.,  3.,  4.,  5.,  6.,  7.,  8.,  9., 10., 11., 12., 13.]), array([0.26415094, 0.35793358, 0.45959596, 0.51666667, 0.47474747,\n",
      "       0.55882353, 0.59677419, 0.58823529, 0.67567568, 0.52380952,\n",
      "       0.77777778, 0.61538462, 0.5625    ])]\n",
      "[array([ 0.,  1.,  2.,  3.,  4.,  5.,  6.,  7.,  8.,  9., 10., 11., 12.,\n",
      "       13., 14., 15., 16., 17., 18., 19., 20., 21., 22., 23., 24., 26.]), array([0.00617076, 0.11374408, 0.15670103, 0.19032258, 0.24087591,\n",
      "       0.24418605, 0.29054054, 0.36956522, 0.33035714, 0.38372093,\n",
      "       0.51388889, 0.47761194, 0.42857143, 0.47368421, 0.5       ,\n",
      "       0.51111111, 0.57142857, 0.57142857, 0.62162162, 0.66666667,\n",
      "       0.45454545, 0.58823529, 0.34615385, 0.41176471, 0.64285714,\n",
      "       0.54545455])]\n"
     ]
    }
   ],
   "source": [
    "print(PEY2H)\n",
    "print(PELIT)\n",
    "print(PELITr)"
   ]
  },
  {
   "cell_type": "code",
   "execution_count": 63,
   "metadata": {},
   "outputs": [],
   "source": [
    "def graficos_PE(g,PE,alfa,Beta):\n",
    "    \n",
    "    x=PE[0]\n",
    "    y=np.log(1-PE[1])\n",
    "    \n",
    "    fitfunc = lambda p, x: p[0]*x+p[1] # Funcion con la que queremos fitear la data\n",
    "    p0 = [-0.2, -0.2] # Parametros iniciales para fitear\n",
    "    errfunc = lambda p, x, y: fitfunc(p, x) - y # Distancia a la función objetivo\n",
    "    p1, success = optimize.leastsq(errfunc, p0[:], args=(x, y))\n",
    "\n",
    "    #Alfa\n",
    "    A=1-10**p1[0]\n",
    "    #Beta\n",
    "    B=1-10**p1[1]\n",
    "    \n",
    "    return [p1[0],p1[1],A,B]"
   ]
  },
  {
   "cell_type": "code",
   "execution_count": 113,
   "metadata": {},
   "outputs": [
    {
     "name": "stdout",
     "output_type": "stream",
     "text": [
      "[-0.019587548835818022, -0.18420861950937586, 0.04410002298483251, 0.34567821418023115]\n",
      "[-0.05667261143800029, -0.4113105621581598, 0.12233781128628962, 0.6121270994851988]\n",
      "[-0.03023217344911629, -0.18888511328026614, 0.0672444827971651, 0.3526861687969749]\n"
     ]
    }
   ],
   "source": [
    "ajusteY2H=graficos_PE(gY2H,PEY2H,alfaY2H,betaY2H)\n",
    "ajusteLIT=graficos_PE(gLIT,PELIT,alfaLIT,betaLIT)\n",
    "ajusteLITr=graficos_PE(gLITr,PELITr,alfaLITr,betaLITr)\n",
    "\n",
    "print(ajusteY2H)\n",
    "print(ajusteLIT)\n",
    "print(ajusteLITr)\n"
   ]
  },
  {
   "cell_type": "markdown",
   "metadata": {},
   "source": [
    "### Pares compartidos"
   ]
  },
  {
   "cell_type": "code",
   "execution_count": 77,
   "metadata": {},
   "outputs": [],
   "source": [
    "def Pek(alfa,beta,k):\n",
    "    Pe=1-(1-beta)*(1-alfa)**k\n",
    "    return Pe"
   ]
  },
  {
   "cell_type": "code",
   "execution_count": 114,
   "metadata": {},
   "outputs": [],
   "source": [
    "def pares_compartidos (g,alfa,beta,cota):\n",
    "    g = asignar_esencialidad(g)\n",
    "#     N = g.number_of_nodes()\n",
    "#     lista_de_nodos_escenciales=[]\n",
    "#     escen = ldata ('tc02Data/Essential_ORFs_paperHe.txt')\n",
    "#     g = grafo ('tc02Data/yeast_AP-MS.txt')\n",
    "#     for node in g.nodes():\n",
    "#         g.node[node]['escencialidad']='no escencial'\n",
    "#     for node in g.nodes():    \n",
    "#         for j in range(len(escen)):\n",
    "#             if len(escen[j]) > 2 and node in escen[j][1]: #No me interesan las listas con largo menor a 2\n",
    "#                 g.node[node]['escencialidad']='escencial'\n",
    "#                 lista_de_nodos_escenciales.append(node)\n",
    "    ya_recorr = []\n",
    "    N_pares_escen = 0\n",
    "    N_pares_no_escen = 0\n",
    "    escen = []\n",
    "    PE=[]           \n",
    "    \n",
    "    #numero total de pares con >cota\n",
    "    pares_totales=[]\n",
    "    \n",
    "    for node1 in g.nodes:\n",
    "        ya_recorr.append(node1)\n",
    "        for node2 in g.nodes:\n",
    "            if node2 not in ya_recorr and node2 not in g.neighbors(node1):\n",
    "                if len(list(nx.common_neighbors(g,node1,node2)))>cota:\n",
    "                    #vecinos_comunes.append(list(nx.common_neighbors(g,node1,node2)))\n",
    "                    pares_totales.append([node1,node2])\n",
    "                    k1=g.degree(node1)\n",
    "                    k2=g.degree(node2)\n",
    "                    PE.append(Pek(alfa,beta,k1)*Pek(alfa,beta,k2)+(1-Pek(alfa,beta,k1))*(1-Pek(alfa,beta,k2)))\n",
    "                    if g.node[node1]['escencialidad'] == 'escencial' and g.node[node2]['escencialidad'] == 'escencial':\n",
    "                        N_pares_escen = N_pares_escen + 1\n",
    "\n",
    "                    elif g.node[node1]['escencialidad'] == 'no escencial' and g.node[node2]['escencialidad'] == 'no escencial':\n",
    "                        N_pares_no_escen = N_pares_no_escen + 1\n",
    "#     for node1 in g.nodes:\n",
    "#         for node2 in g.nodes:\n",
    "#             if node1 != node2 and node2 not in nodo_ya_recorrido:\n",
    "#                 if g.has_edge (node1,node2) is False:\n",
    "#                     vec_node_1 = g.neighbors (node1)\n",
    "#                     vec_node_2 = g.neighbors (node2)\n",
    "#                     if len (set(vec_node_1) & set (vec_node_2)) >= 3:\n",
    "#                         k1=g.degree(node1)\n",
    "#                         k2=g.degree(node2)\n",
    "#                         PE.append(Pek(alfa,beta,k1)*Pek(alfa,beta,k2)+(1-Pek(alfa,beta,k1))*(1-Pek(alfa,beta,k2)))\n",
    "#                         if g.node[node1]['escencialidad'] == 'escencial' and g.node[node2]['escencialidad'] == 'escencial':\n",
    "#                             N_pares_escen = N_pares_escen + 1\n",
    "\n",
    "#                         elif g.node[node1]['escencialidad'] == 'no escencial' and g.node[node2]['escencialidad'] == 'no escencial':\n",
    "#                             N_pares_no_escen = N_pares_no_escen + 1\n",
    "    Total = len(pares_totales)\n",
    "    x = [N_pares_escen,N_pares_no_escen]\n",
    "    \n",
    "    return [x[0]+x[1],sum(PE)*len(list(g.nodes()))]\n"
   ]
  },
  {
   "cell_type": "code",
   "execution_count": 116,
   "metadata": {},
   "outputs": [
    {
     "data": {
      "text/plain": [
       "[349, 563394.1035962503]"
      ]
     },
     "execution_count": 116,
     "metadata": {},
     "output_type": "execute_result"
    }
   ],
   "source": [
    "Pares_de_misma_especie_Y2H = pares_compartidos(gY2H,ajusteY2H[2],ajusteY2H[3],2)\n",
    "Pares_de_misma_especie_Y2H"
   ]
  },
  {
   "cell_type": "code",
   "execution_count": null,
   "metadata": {},
   "outputs": [],
   "source": [
    "Pares_de_misma_especie_LIT = pares_compartidos (gLIT)"
   ]
  },
  {
   "cell_type": "code",
   "execution_count": null,
   "metadata": {},
   "outputs": [],
   "source": [
    "Pares_de_misma_especie_LIT = pares_compartidos (gLITr)"
   ]
  }
 ],
 "metadata": {
  "kernelspec": {
   "display_name": "Python 3",
   "language": "python",
   "name": "python3"
  },
  "language_info": {
   "codemirror_mode": {
    "name": "ipython",
    "version": 3
   },
   "file_extension": ".py",
   "mimetype": "text/x-python",
   "name": "python",
   "nbconvert_exporter": "python",
   "pygments_lexer": "ipython3",
   "version": "3.6.5"
  }
 },
 "nbformat": 4,
 "nbformat_minor": 2
}
