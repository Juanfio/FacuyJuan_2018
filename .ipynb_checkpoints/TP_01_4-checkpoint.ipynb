{
 "cells": [
  {
   "cell_type": "code",
   "execution_count": 30,
   "metadata": {},
   "outputs": [
    {
     "data": {
      "image/png": "[encoded data removed]",
      "text/plain": [
       "<matplotlib.figure.Figure at 0x7f58f86696d8>"
      ]
     },
     "metadata": {},
     "output_type": "display_data"
    },
    {
     "name": "stdout",
     "output_type": "stream",
     "text": [
      "[-0.44417355  6.32762495]\n"
     ]
    },
    {
     "data": {
      "image/png": "[encoded data removed]",
      "text/plain": [
       "<matplotlib.figure.Figure at 0x7f58f4dff518>"
      ]
     },
     "metadata": {},
     "output_type": "display_data"
    }
   ],
   "source": [
    "import networkx as nx\n",
    "import pandas as pd\n",
    "import matplotlib.pylab as plt\n",
    "import numpy as np\n",
    "import random as rm\n",
    "from scipy import optimize\n",
    "\n",
    "\n",
    "def ldata(archive):\n",
    "    f=open(archive)\n",
    "    data=[]\n",
    "    for line in f:\n",
    "        line=line.strip()\n",
    "        col=line.split()\n",
    "        data.append(col)\n",
    "    return data\n",
    "science = nx.read_gml(\"netscience.gml\")\n",
    "    \n",
    "#ESCRIBO EL CODIGO PARA \"JULY\" Y LUEGO LO REPITO PARA \"SCIENCE\".\n",
    "#ARMO UNA LISTA DE LOS NODOS.\n",
    "july = nx.read_gml(\"as-22july06.gml\")\n",
    "july_nodos = july.nodes()\n",
    "july_nodos_lista = list(july_nodos) #ESTO TRANSFORMA A LISTA CUALQUIER VARIABLE. ACA TENGO LOS NODOS.\n",
    "\n",
    "#VEO LAS UNIONES DE ESOS NODOS.\n",
    "uniones = []\n",
    "for i in range (len(july_nodos_lista)):\n",
    "    union = []\n",
    "    for nodo in july.neighbors(july_nodos_lista[i]):\n",
    "        union.append(nodo)\n",
    "    uniones.append (union)\n",
    "\n",
    "#VEO EL GRADO DE CADA NODO.\n",
    "grados_por_nodo = []\n",
    "for l in range (len(july_nodos_lista)):\n",
    "    grado_nodo_l = july.degree(july_nodos_lista[l])\n",
    "    grados_por_nodo.append(grado_nodo_l)\n",
    "\n",
    "#VEO EL GRADO DE MIS VECINOS.\n",
    "grados_vecino_por_nodo = []\n",
    "for l in range (len(uniones)):\n",
    "    grados_nodos_vecinos = []\n",
    "    for m in range (len(uniones[l])):\n",
    "        grado_nodo_m = july.degree(uniones[l][m])\n",
    "        grados_nodos_vecinos.append(grado_nodo_m)\n",
    "    grados_vecino_por_nodo.append(grados_nodos_vecinos)\n",
    "\n",
    "#CALCULO VALOR MEDIO DE LOS VECINOS DE NODOS DE GRADO K.\n",
    "promedio_vecinos = []\n",
    "for i in grados_vecino_por_nodo:\n",
    "    val_medio_por_vecinos = np.mean (i)\n",
    "    promedio_vecinos.append (val_medio_por_vecinos)\n",
    "\n",
    "nombre_gnodo_gvecinos = []\n",
    "for n,g,v in zip(july_nodos_lista,grados_por_nodo,promedio_vecinos):\n",
    "    nombre_gnodo_gvecinos.append([n,g,v])\n",
    "\n",
    "gnodo_vmedio_vecinos = []\n",
    "grados = list(set(grados_por_nodo))\n",
    "for grado in grados:\n",
    "    m = []\n",
    "    for i in nombre_gnodo_gvecinos:\n",
    "        if i[1] == grado:\n",
    "             m.append(i[2])\n",
    "    m_valmedio = np.mean (m)\n",
    "    gnodo_vmedio_vecinos.append([grado,m_valmedio])\n",
    "\n",
    "\n",
    "\n",
    "\n",
    "#x_2 = np.zeros (len(nombre_gnodo_gvecinos))\n",
    "#y_2 = np.zeros (len(nombre_gnodo_gvecinos))\n",
    "#for i in range (len(nombre_gnodo_gvecinos)):\n",
    " #   x_2[i] = nombre_gnodo_gvecinos[i][1]\n",
    "  #  y_2[i] = nombre_gnodo_gvecinos[i][2]\n",
    "    \n",
    "#plt.plot (x_2,y_2,\"r.\")\n",
    "#plt.show ()\n",
    "\n",
    "x = np.zeros (len(gnodo_vmedio_vecinos))\n",
    "y = np.zeros (len(gnodo_vmedio_vecinos))\n",
    "for i in range (len(gnodo_vmedio_vecinos)):\n",
    "    x[i] = gnodo_vmedio_vecinos[i][0]\n",
    "    y[i] = gnodo_vmedio_vecinos[i][1]\n",
    "\n",
    "x_log = np.log (x)\n",
    "y_log = np.log (y)\n",
    "\n",
    "#CON ESTO ARMO LA FUNCION QUE FITEA LOS DATOS LOGARITMICOS.\n",
    "fitfunc = lambda p, x_log: p[0]*x_log+p[1]\n",
    "p0 = [1, 1]\n",
    "\n",
    "errfunc = lambda p, x_log, y_log: fitfunc(p, x_log) - y_log\n",
    "p1, suc = optimize.leastsq(errfunc, p0[:], args=(x_log, y_log)) #EL P1 TIENE LOS ELEMENTOS DE MI FITEO. los parametros de mi lineal.\n",
    "plt.plot(x_log, y_log, \"ro\", x_log, fitfunc(p1, x_log), \"k-\", linewidth=3)\n",
    "print (p1)\n",
    "\n",
    "#plt.plot (np.log(x),np.log(y),\"r.\")\n",
    "\n",
    "plt.show ()\n"
   ]
  },
  {
   "cell_type": "code",
   "execution_count": 15,
   "metadata": {},
   "outputs": [
    {
     "name": "stdout",
     "output_type": "stream",
     "text": [
      "[2, 4, 5, 9, 87, 2, 3, 5, 4]\n",
      "[2, 3, 4, 5, 9, 87]\n"
     ]
    }
   ],
   "source": [
    "listita = [2,4,5,9,87,2,3,5,4]\n",
    "lista = list(set(listita))\n",
    "print (listita)\n",
    "print (lista)"
   ]
  }
 ],
 "metadata": {
  "kernelspec": {
   "display_name": "Python 3",
   "language": "python",
   "name": "python3"
  },
  "language_info": {
   "codemirror_mode": {
    "name": "ipython",
    "version": 3
   },
   "file_extension": ".py",
   "mimetype": "text/x-python",
   "name": "python",
   "nbconvert_exporter": "python",
   "pygments_lexer": "ipython3",
   "version": "3.5.2"
  }
 },
 "nbformat": 4,
 "nbformat_minor": 2
}
