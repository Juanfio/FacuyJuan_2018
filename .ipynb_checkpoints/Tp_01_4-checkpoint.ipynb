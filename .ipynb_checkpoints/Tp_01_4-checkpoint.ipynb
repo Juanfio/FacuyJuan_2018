{
 "cells": [
  {
   "cell_type": "code",
   "execution_count": null,
   "metadata": {
    "collapsed": true
   },
   "outputs": [],
   "source": [
    "import networkx as nx\n",
    "import pandas as pd\n",
    "import matplotlib.pylab as plt\n",
    "import numpy as np\n",
    "import random as rm\n",
    "\n",
    "def ldata(archive):\n",
    "    f=open(archive)\n",
    "    data=[]\n",
    "    for line in f:\n",
    "        line=line.strip()\n",
    "        col=line.split()\n",
    "        data.append(col)\n",
    "    return data\n",
    "\n",
    "    \n",
    "g_july = nx.read_gml(\"as-22july06.gml\")\n",
    "g_science = nx.read_gml(\"netscience.gml\")\n",
    "#FUNCIONES A UTILIZAR PARA ESTE PROBLEMA:\n",
    "#1. G.degree(0) ESTA NOS DA EL GRADO DEL NODO 0, SI PONGO UNA LISTA DE NODOS OBTENGO UN DICCIONARIO DONDE LAS KEYS SON LOS NODOS\n",
    "#   Y LOS VALUES SON LOS GRADOS.\n",
    "\n",
    "#CON ESTO HAGO UNA LISTA CON MIS VECINOS Y CON LO DE ARRIBA LE CALCULO EL GRADO A CADA UNO. - VER:\n",
    "#2. list_union = []\n",
    "#for i in range (len(delfines)):\n",
    " #   uniones = []\n",
    "    #  for nodo in g.neighbors(delfines[i]):\n",
    "   #     uniones.append(nodo)\n",
    "    #list_union.append (uniones)"
   ]
  }
 ],
 "metadata": {
  "kernelspec": {
   "display_name": "Python 3",
   "language": "python",
   "name": "python3"
  },
  "language_info": {
   "codemirror_mode": {
    "name": "ipython",
    "version": 3
   },
   "file_extension": ".py",
   "mimetype": "text/x-python",
   "name": "python",
   "nbconvert_exporter": "python",
   "pygments_lexer": "ipython3",
   "version": "3.6.0"
  }
 },
 "nbformat": 4,
 "nbformat_minor": 2
}
