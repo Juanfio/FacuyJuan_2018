{
 "cells": [
  {
   "cell_type": "code",
   "execution_count": 19,
   "metadata": {},
   "outputs": [
    {
     "name": "stdout",
     "output_type": "stream",
     "text": [
      "22963\n"
     ]
    }
   ],
   "source": [
    "import networkx as nx\n",
    "import pandas as pd\n",
    "import matplotlib.pylab as plt\n",
    "import numpy as np\n",
    "import random as rm\n",
    "\n",
    "def ldata(archive):\n",
    "    f=open(archive)\n",
    "    data=[]\n",
    "    for line in f:\n",
    "        line=line.strip()\n",
    "        col=line.split()\n",
    "        data.append(col)\n",
    "    return data\n",
    "science = nx.read_gml(\"netscience.gml\")\n",
    "    \n",
    "#ESCRIBO EL CODIGO PARA \"JULY\" Y LUEGO LO REPITO PARA \"SCIENCE\".\n",
    "#ARMO UNA LISTA DE LOS NODOS.\n",
    "july = nx.read_gml(\"as-22july06.gml\")\n",
    "july_nodos = july.nodes()\n",
    "july_nodos_lista = list(july_nodos) #ESTO TRANSFORMA A LISTA CUALQUIER VARIABLE. ACA TENGO LOS NODOS.\n",
    "\n",
    "#VEO LAS UNIONES DE ESOS NODOS.\n",
    "uniones = []\n",
    "for i in range (len(july_nodos_lista)):\n",
    "    union = []\n",
    "    for nodo in july.neighbors(july_nodos_lista[i]):\n",
    "        union.append(nodo)\n",
    "    uniones.append (union)\n",
    "\n",
    "#VEO EL GRADO DE CADA NODO.\n",
    "grados_por_nodo = []\n",
    "for l in range (len(july_nodos_lista)):\n",
    "    grado_nodo_l = july.degree(july_nodos_lista[l])\n",
    "    grados_por_nodo.append(grado_nodo_l)\n",
    "\n",
    "#VEO EL GRADO DE MIS VECINOS.\n",
    "grados_vecino_por_nodo = []\n",
    "for l in range (len(uniones)):\n",
    "    grados_nodos_vecinos = []\n",
    "    for m in range (len(uniones[l])):\n",
    "        grado_nodo_m = july.degree(july_nodos_lista[m])\n",
    "        grados_nodos_vecinos.append(grado_nodo_m)\n",
    "    grados_vecino_por_nodo.append(grados_nodos_vecinos)\n",
    "\n",
    "#CALCULO VALOR MEDIO DE LOS VECINOS DE NODOS DE GRADO K."
   ]
  }
 ],
 "metadata": {
  "kernelspec": {
   "display_name": "Python 3",
   "language": "python",
   "name": "python3"
  },
  "language_info": {
   "codemirror_mode": {
    "name": "ipython",
    "version": 3
   },
   "file_extension": ".py",
   "mimetype": "text/x-python",
   "name": "python",
   "nbconvert_exporter": "python",
   "pygments_lexer": "ipython3",
   "version": "3.5.2"
  }
 },
 "nbformat": 4,
 "nbformat_minor": 2
}
